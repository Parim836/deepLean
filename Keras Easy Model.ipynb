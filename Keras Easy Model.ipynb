{
 "cells": [
  {
   "cell_type": "markdown",
   "metadata": {
    "jp-MarkdownHeadingCollapsed": true
   },
   "source": [
    "## File นี้เป็นตัวอย่างการทำงานของ Machine Learning ที่เกือบจะครบวงจร จะแสดงให้เห็นถึง\n",
    "1. ### การดึงข้อมูล เปลี่ยนแปลงชนิด เตรียม และ แสดงผล\n",
    "1. ### สร้าง AI model แบบง่าย\n"
   ]
  },
  {
   "cell_type": "code",
   "execution_count": 1,
   "metadata": {},
   "outputs": [
    {
     "name": "stdout",
     "output_type": "stream",
     "text": [
      "2.16.2\n",
      "3.4.1\n",
      "[PhysicalDevice(name='/physical_device:CPU:0', device_type='CPU')]\n"
     ]
    }
   ],
   "source": [
    "# TensorFlow and tf.keras\n",
    "import matplotlib.pyplot as plt\n",
    "\n",
    "# Helper libraries\n",
    "import numpy as np\n",
    "import tensorflow as tf\n",
    "from tensorflow import keras\n",
    "\n",
    "print(tf.__version__)\n",
    "print(keras.__version__)\n",
    "print(tf.config.list_physical_devices())  # แสดง processor ที่สามารถรัน tensorflow ได้"
   ]
  },
  {
   "cell_type": "code",
   "execution_count": 2,
   "metadata": {},
   "outputs": [],
   "source": [
    "fashion_mnist = keras.datasets.fashion_mnist  # get the dataset\n",
    "(train_images, train_labels), (test_images, test_labels) = fashion_mnist.load_data()\n",
    "# spliting data set into train & test"
   ]
  },
  {
   "cell_type": "markdown",
   "metadata": {},
   "source": [
    "ถึงแม้ว่าเราจะสำรวจข้อมูลมาก่อนหน้าแล้ว แต่เมื่ออยู่ในโน้ตบุ๊คอีกอัน เราก็ควรจะลองโหลดข้อมูลมาสักตัวเพื่อดูว่าสิ่งต่าง ๆ ยังเป็นอย่างที่เราคิดไหม"
   ]
  },
  {
   "cell_type": "code",
   "execution_count": 3,
   "metadata": {},
   "outputs": [
    {
     "data": {
      "image/png": "[encoded data removed]",
      "text/plain": [
       "<Figure size 300x300 with 2 Axes>"
      ]
     },
     "metadata": {},
     "output_type": "display_data"
    }
   ],
   "source": [
    "plt.figure(figsize=(3, 3))\n",
    "# plt.imshow(train_images[0], cmap=plt.cm.binary)\n",
    "plt.imshow(train_images[0], cmap=plt.cm.gray_r)\n",
    "plt.colorbar()\n",
    "plt.grid(False)"
   ]
  },
  {
   "cell_type": "code",
   "execution_count": 4,
   "metadata": {},
   "outputs": [],
   "source": [
    "# normalisation\n",
    "train_images = train_images / 255.0\n",
    "test_images = test_images / 255.0"
   ]
  },
  {
   "cell_type": "code",
   "execution_count": 5,
   "metadata": {},
   "outputs": [
    {
     "name": "stdout",
     "output_type": "stream",
     "text": [
      "total images:60000\n",
      "(28, 28)\n"
     ]
    }
   ],
   "source": [
    "print(f\"total images:{len(train_images)}\")\n",
    "print(train_images[0].shape)"
   ]
  },
  {
   "cell_type": "code",
   "execution_count": 6,
   "metadata": {},
   "outputs": [
    {
     "data": {
      "text/plain": [
       "dtype('float64')"
      ]
     },
     "execution_count": 6,
     "metadata": {},
     "output_type": "execute_result"
    }
   ],
   "source": [
    "train_images.dtype"
   ]
  },
  {
   "cell_type": "code",
   "execution_count": 7,
   "metadata": {},
   "outputs": [
    {
     "data": {
      "text/plain": [
       "dtype('float32')"
      ]
     },
     "execution_count": 7,
     "metadata": {},
     "output_type": "execute_result"
    }
   ],
   "source": [
    "train_images = train_images.astype(np.float32)\n",
    "test_images = test_images.astype(np.float32)\n",
    "train_images.dtype"
   ]
  },
  {
   "cell_type": "markdown",
   "metadata": {},
   "source": [
    "### หยุดคิดสักแปบ มาดูกันก่อนว่าจริงๆแล้วชนิดข้อมูลที่มานั้นมันเป็นชนิดอะไรกันแน่นะ?"
   ]
  },
  {
   "cell_type": "code",
   "execution_count": 8,
   "metadata": {},
   "outputs": [],
   "source": [
    "(train_images, train_labels), (test_images, test_labels) = fashion_mnist.load_data()"
   ]
  },
  {
   "cell_type": "code",
   "execution_count": 9,
   "metadata": {},
   "outputs": [
    {
     "name": "stdout",
     "output_type": "stream",
     "text": [
      "uint8\n",
      "float32\n"
     ]
    }
   ],
   "source": [
    "print(train_images.dtype)\n",
    "train_images = train_images.astype(np.float32) / 255\n",
    "print(train_images.dtype)  # จะเอาอันที่ใช้ Bits(bytes) เยอะกว่า"
   ]
  },
  {
   "cell_type": "markdown",
   "metadata": {},
   "source": [
    "### โมเดลในที่นี้จะถูกสร้างขึ้นใฟห้อยู่ในรูแบบ sequential \n",
    "หมายถึงว่าการเรียงตัวแบบเป็นชั้นๆ แต่ละเลเยอร์จะส่งข้อมูลจากด้านใดไปด้านหนึ่งเท่านั้น (ซ้ายไปขวา)\n",
    "โดนจะใส่เมธอด Sequential() ของ keras และนำlayer ใส่ไปใน list \n",
    "สามารถทำได้ 2 วิธี\n",
    "\n",
    "จะสังเกตุได้ว่ามีทั้งหมด 2 วิธีในการสร้างโมเดล\n",
    "1. เป็นการกำหนดไปเลยว่าเลเยอร์แรกนั้นเป็นแบบ แบน(flatten) ***แต่ไม่กำหนดว่ามี input ขนาดเท่าไหร่***\n",
    "   <br> ถ้าหากต้องการกำหนดรูปแบบ input ให้ใส่พารามิเตอร์ input_shape=(28,28) แต่จะขึ้น warning\n",
    "   <br> warning เพราะ keras มองว่า input ไม่ควรเป็น layer เพราะเลเยอร์นี้ไม่ได้แก้ไขค่าอะไรเลยเป็นการส่งตัวแปรเข้าไปเท่านั้น activation fn ก็ไม่มี\n",
    "1. เป็นการกำหนดไปเลยว่า input จะเป็น array 1 มิติ ที่มีขนาด 28x28 = 784\n",
    "    <br> แต่ต้องอย่าลืมปรับเปลี่ยน shape ของข้อมูลด้วย\n",
    "\n",
    "จริงๆแล้วสองวิธีนี้ไม่มีผิดไม่มีถูก ขึ้นอยู่กับว่าถนัดแบบไหน\n",
    "แต่อย่าลืมว่าข้อดีของการใส่ input คือเราจะเป็นจำนวน parameters ได้เลย"
   ]
  },
  {
   "cell_type": "code",
   "execution_count": 15,
   "metadata": {},
   "outputs": [
    {
     "name": "stderr",
     "output_type": "stream",
     "text": [
      "C:\\Users\\phuri\\AppData\\Local\\Programs\\Python\\Python310\\lib\\site-packages\\keras\\src\\layers\\reshaping\\flatten.py:37: UserWarning: Do not pass an `input_shape`/`input_dim` argument to a layer. When using Sequential models, prefer using an `Input(shape)` object as the first layer in the model instead.\n",
      "  super().__init__(**kwargs)\n"
     ]
    },
    {
     "data": {
      "text/html": [
       "<pre style=\"white-space:pre;overflow-x:auto;line-height:normal;font-family:Menlo,'DejaVu Sans Mono',consolas,'Courier New',monospace\"><span style=\"font-weight: bold\">Model: \"sequential_2\"</span>\n",
       "</pre>\n"
      ],
      "text/plain": [
       "\u001b[1mModel: \"sequential_2\"\u001b[0m\n"
      ]
     },
     "metadata": {},
     "output_type": "display_data"
    },
    {
     "data": {
      "text/html": [
       "<pre style=\"white-space:pre;overflow-x:auto;line-height:normal;font-family:Menlo,'DejaVu Sans Mono',consolas,'Courier New',monospace\">┏━━━━━━━━━━━━━━━━━━━━━━━━━━━━━━━━━━━━━━┳━━━━━━━━━━━━━━━━━━━━━━━━━━━━━┳━━━━━━━━━━━━━━━━━┓\n",
       "┃<span style=\"font-weight: bold\"> Layer (type)                         </span>┃<span style=\"font-weight: bold\"> Output Shape                </span>┃<span style=\"font-weight: bold\">         Param # </span>┃\n",
       "┡━━━━━━━━━━━━━━━━━━━━━━━━━━━━━━━━━━━━━━╇━━━━━━━━━━━━━━━━━━━━━━━━━━━━━╇━━━━━━━━━━━━━━━━━┩\n",
       "│ flatten_2 (<span style=\"color: #0087ff; text-decoration-color: #0087ff\">Flatten</span>)                  │ (<span style=\"color: #00d7ff; text-decoration-color: #00d7ff\">None</span>, <span style=\"color: #00af00; text-decoration-color: #00af00\">784</span>)                 │               <span style=\"color: #00af00; text-decoration-color: #00af00\">0</span> │\n",
       "├──────────────────────────────────────┼─────────────────────────────┼─────────────────┤\n",
       "│ dense_2 (<span style=\"color: #0087ff; text-decoration-color: #0087ff\">Dense</span>)                      │ (<span style=\"color: #00d7ff; text-decoration-color: #00d7ff\">None</span>, <span style=\"color: #00af00; text-decoration-color: #00af00\">10</span>)                  │           <span style=\"color: #00af00; text-decoration-color: #00af00\">7,850</span> │\n",
       "└──────────────────────────────────────┴─────────────────────────────┴─────────────────┘\n",
       "</pre>\n"
      ],
      "text/plain": [
       "┏━━━━━━━━━━━━━━━━━━━━━━━━━━━━━━━━━━━━━━┳━━━━━━━━━━━━━━━━━━━━━━━━━━━━━┳━━━━━━━━━━━━━━━━━┓\n",
       "┃\u001b[1m \u001b[0m\u001b[1mLayer (type)                        \u001b[0m\u001b[1m \u001b[0m┃\u001b[1m \u001b[0m\u001b[1mOutput Shape               \u001b[0m\u001b[1m \u001b[0m┃\u001b[1m \u001b[0m\u001b[1m        Param #\u001b[0m\u001b[1m \u001b[0m┃\n",
       "┡━━━━━━━━━━━━━━━━━━━━━━━━━━━━━━━━━━━━━━╇━━━━━━━━━━━━━━━━━━━━━━━━━━━━━╇━━━━━━━━━━━━━━━━━┩\n",
       "│ flatten_2 (\u001b[38;5;33mFlatten\u001b[0m)                  │ (\u001b[38;5;45mNone\u001b[0m, \u001b[38;5;34m784\u001b[0m)                 │               \u001b[38;5;34m0\u001b[0m │\n",
       "├──────────────────────────────────────┼─────────────────────────────┼─────────────────┤\n",
       "│ dense_2 (\u001b[38;5;33mDense\u001b[0m)                      │ (\u001b[38;5;45mNone\u001b[0m, \u001b[38;5;34m10\u001b[0m)                  │           \u001b[38;5;34m7,850\u001b[0m │\n",
       "└──────────────────────────────────────┴─────────────────────────────┴─────────────────┘\n"
      ]
     },
     "metadata": {},
     "output_type": "display_data"
    },
    {
     "data": {
      "text/html": [
       "<pre style=\"white-space:pre;overflow-x:auto;line-height:normal;font-family:Menlo,'DejaVu Sans Mono',consolas,'Courier New',monospace\"><span style=\"font-weight: bold\"> Total params: </span><span style=\"color: #00af00; text-decoration-color: #00af00\">7,850</span> (30.66 KB)\n",
       "</pre>\n"
      ],
      "text/plain": [
       "\u001b[1m Total params: \u001b[0m\u001b[38;5;34m7,850\u001b[0m (30.66 KB)\n"
      ]
     },
     "metadata": {},
     "output_type": "display_data"
    },
    {
     "data": {
      "text/html": [
       "<pre style=\"white-space:pre;overflow-x:auto;line-height:normal;font-family:Menlo,'DejaVu Sans Mono',consolas,'Courier New',monospace\"><span style=\"font-weight: bold\"> Trainable params: </span><span style=\"color: #00af00; text-decoration-color: #00af00\">7,850</span> (30.66 KB)\n",
       "</pre>\n"
      ],
      "text/plain": [
       "\u001b[1m Trainable params: \u001b[0m\u001b[38;5;34m7,850\u001b[0m (30.66 KB)\n"
      ]
     },
     "metadata": {},
     "output_type": "display_data"
    },
    {
     "data": {
      "text/html": [
       "<pre style=\"white-space:pre;overflow-x:auto;line-height:normal;font-family:Menlo,'DejaVu Sans Mono',consolas,'Courier New',monospace\"><span style=\"font-weight: bold\"> Non-trainable params: </span><span style=\"color: #00af00; text-decoration-color: #00af00\">0</span> (0.00 B)\n",
       "</pre>\n"
      ],
      "text/plain": [
       "\u001b[1m Non-trainable params: \u001b[0m\u001b[38;5;34m0\u001b[0m (0.00 B)\n"
      ]
     },
     "metadata": {},
     "output_type": "display_data"
    }
   ],
   "source": [
    "model = keras.Sequential([\n",
    "    keras.layers.Flatten(input_shape=(28,28) ), \n",
    "     keras.layers.Dense(10, activation=tf.nn.softmax)\n",
    "])\n",
    "\n",
    "# model = keras.Sequential([\n",
    "#     keras.Input(shape=(28*28,)),\n",
    "#     keras.layers.Dense(10, activation=tf.nn.softmax)\n",
    "# ])\n",
    "# train_images = train_images.reshape(train_images.shape[0], 784)\n",
    "# test_images = test_images.reshape(test_images.shape[0], 784)\n",
    "model.summary()"
   ]
  },
  {
   "cell_type": "code",
   "execution_count": 16,
   "metadata": {},
   "outputs": [],
   "source": [
    "model.compile(\n",
    "    optimizer=keras.optimizers.Adam(),\n",
    "    loss=\"sparse_categorical_crossentropy\",\n",
    "    metrics=[\"accuracy\"],\n",
    ")"
   ]
  },
  {
   "cell_type": "code",
   "execution_count": 17,
   "metadata": {},
   "outputs": [
    {
     "data": {
      "text/html": [
       "<pre style=\"white-space:pre;overflow-x:auto;line-height:normal;font-family:Menlo,'DejaVu Sans Mono',consolas,'Courier New',monospace\"><span style=\"font-weight: bold\">Model: \"sequential_2\"</span>\n",
       "</pre>\n"
      ],
      "text/plain": [
       "\u001b[1mModel: \"sequential_2\"\u001b[0m\n"
      ]
     },
     "metadata": {},
     "output_type": "display_data"
    },
    {
     "data": {
      "text/html": [
       "<pre style=\"white-space:pre;overflow-x:auto;line-height:normal;font-family:Menlo,'DejaVu Sans Mono',consolas,'Courier New',monospace\">┏━━━━━━━━━━━━━━━━━━━━━━━━━━━━━━━━━━━━━━┳━━━━━━━━━━━━━━━━━━━━━━━━━━━━━┳━━━━━━━━━━━━━━━━━┓\n",
       "┃<span style=\"font-weight: bold\"> Layer (type)                         </span>┃<span style=\"font-weight: bold\"> Output Shape                </span>┃<span style=\"font-weight: bold\">         Param # </span>┃\n",
       "┡━━━━━━━━━━━━━━━━━━━━━━━━━━━━━━━━━━━━━━╇━━━━━━━━━━━━━━━━━━━━━━━━━━━━━╇━━━━━━━━━━━━━━━━━┩\n",
       "│ flatten_2 (<span style=\"color: #0087ff; text-decoration-color: #0087ff\">Flatten</span>)                  │ (<span style=\"color: #00d7ff; text-decoration-color: #00d7ff\">None</span>, <span style=\"color: #00af00; text-decoration-color: #00af00\">784</span>)                 │               <span style=\"color: #00af00; text-decoration-color: #00af00\">0</span> │\n",
       "├──────────────────────────────────────┼─────────────────────────────┼─────────────────┤\n",
       "│ dense_2 (<span style=\"color: #0087ff; text-decoration-color: #0087ff\">Dense</span>)                      │ (<span style=\"color: #00d7ff; text-decoration-color: #00d7ff\">None</span>, <span style=\"color: #00af00; text-decoration-color: #00af00\">10</span>)                  │           <span style=\"color: #00af00; text-decoration-color: #00af00\">7,850</span> │\n",
       "└──────────────────────────────────────┴─────────────────────────────┴─────────────────┘\n",
       "</pre>\n"
      ],
      "text/plain": [
       "┏━━━━━━━━━━━━━━━━━━━━━━━━━━━━━━━━━━━━━━┳━━━━━━━━━━━━━━━━━━━━━━━━━━━━━┳━━━━━━━━━━━━━━━━━┓\n",
       "┃\u001b[1m \u001b[0m\u001b[1mLayer (type)                        \u001b[0m\u001b[1m \u001b[0m┃\u001b[1m \u001b[0m\u001b[1mOutput Shape               \u001b[0m\u001b[1m \u001b[0m┃\u001b[1m \u001b[0m\u001b[1m        Param #\u001b[0m\u001b[1m \u001b[0m┃\n",
       "┡━━━━━━━━━━━━━━━━━━━━━━━━━━━━━━━━━━━━━━╇━━━━━━━━━━━━━━━━━━━━━━━━━━━━━╇━━━━━━━━━━━━━━━━━┩\n",
       "│ flatten_2 (\u001b[38;5;33mFlatten\u001b[0m)                  │ (\u001b[38;5;45mNone\u001b[0m, \u001b[38;5;34m784\u001b[0m)                 │               \u001b[38;5;34m0\u001b[0m │\n",
       "├──────────────────────────────────────┼─────────────────────────────┼─────────────────┤\n",
       "│ dense_2 (\u001b[38;5;33mDense\u001b[0m)                      │ (\u001b[38;5;45mNone\u001b[0m, \u001b[38;5;34m10\u001b[0m)                  │           \u001b[38;5;34m7,850\u001b[0m │\n",
       "└──────────────────────────────────────┴─────────────────────────────┴─────────────────┘\n"
      ]
     },
     "metadata": {},
     "output_type": "display_data"
    },
    {
     "data": {
      "text/html": [
       "<pre style=\"white-space:pre;overflow-x:auto;line-height:normal;font-family:Menlo,'DejaVu Sans Mono',consolas,'Courier New',monospace\"><span style=\"font-weight: bold\"> Total params: </span><span style=\"color: #00af00; text-decoration-color: #00af00\">7,850</span> (30.66 KB)\n",
       "</pre>\n"
      ],
      "text/plain": [
       "\u001b[1m Total params: \u001b[0m\u001b[38;5;34m7,850\u001b[0m (30.66 KB)\n"
      ]
     },
     "metadata": {},
     "output_type": "display_data"
    },
    {
     "data": {
      "text/html": [
       "<pre style=\"white-space:pre;overflow-x:auto;line-height:normal;font-family:Menlo,'DejaVu Sans Mono',consolas,'Courier New',monospace\"><span style=\"font-weight: bold\"> Trainable params: </span><span style=\"color: #00af00; text-decoration-color: #00af00\">7,850</span> (30.66 KB)\n",
       "</pre>\n"
      ],
      "text/plain": [
       "\u001b[1m Trainable params: \u001b[0m\u001b[38;5;34m7,850\u001b[0m (30.66 KB)\n"
      ]
     },
     "metadata": {},
     "output_type": "display_data"
    },
    {
     "data": {
      "text/html": [
       "<pre style=\"white-space:pre;overflow-x:auto;line-height:normal;font-family:Menlo,'DejaVu Sans Mono',consolas,'Courier New',monospace\"><span style=\"font-weight: bold\"> Non-trainable params: </span><span style=\"color: #00af00; text-decoration-color: #00af00\">0</span> (0.00 B)\n",
       "</pre>\n"
      ],
      "text/plain": [
       "\u001b[1m Non-trainable params: \u001b[0m\u001b[38;5;34m0\u001b[0m (0.00 B)\n"
      ]
     },
     "metadata": {},
     "output_type": "display_data"
    }
   ],
   "source": [
    "model.summary()"
   ]
  },
  {
   "cell_type": "code",
   "execution_count": 18,
   "metadata": {},
   "outputs": [
    {
     "name": "stdout",
     "output_type": "stream",
     "text": [
      "Epoch 1/5\n",
      "\u001b[1m1875/1875\u001b[0m \u001b[32m━━━━━━━━━━━━━━━━━━━━\u001b[0m\u001b[37m\u001b[0m \u001b[1m3s\u001b[0m 1ms/step - accuracy: 0.7353 - loss: 0.7824\n",
      "Epoch 2/5\n",
      "\u001b[1m1875/1875\u001b[0m \u001b[32m━━━━━━━━━━━━━━━━━━━━\u001b[0m\u001b[37m\u001b[0m \u001b[1m2s\u001b[0m 1ms/step - accuracy: 0.8396 - loss: 0.4671\n",
      "Epoch 3/5\n",
      "\u001b[1m1875/1875\u001b[0m \u001b[32m━━━━━━━━━━━━━━━━━━━━\u001b[0m\u001b[37m\u001b[0m \u001b[1m2s\u001b[0m 1ms/step - accuracy: 0.8500 - loss: 0.4379\n",
      "Epoch 4/5\n",
      "\u001b[1m1875/1875\u001b[0m \u001b[32m━━━━━━━━━━━━━━━━━━━━\u001b[0m\u001b[37m\u001b[0m \u001b[1m2s\u001b[0m 1ms/step - accuracy: 0.8547 - loss: 0.4229\n",
      "Epoch 5/5\n",
      "\u001b[1m1875/1875\u001b[0m \u001b[32m━━━━━━━━━━━━━━━━━━━━\u001b[0m\u001b[37m\u001b[0m \u001b[1m2s\u001b[0m 1ms/step - accuracy: 0.8568 - loss: 0.4105\n"
     ]
    },
    {
     "data": {
      "text/plain": [
       "<keras.src.callbacks.history.History at 0x2756b97dbd0>"
      ]
     },
     "execution_count": 18,
     "metadata": {},
     "output_type": "execute_result"
    }
   ],
   "source": [
    "model.fit(train_images,train_labels, epochs=5)"
   ]
  },
  {
   "cell_type": "code",
   "execution_count": 10,
   "metadata": {},
   "outputs": [
    {
     "data": {
      "text/html": [
       "<pre style=\"white-space:pre;overflow-x:auto;line-height:normal;font-family:Menlo,'DejaVu Sans Mono',consolas,'Courier New',monospace\"><span style=\"font-weight: bold\">Model: \"sequential_2\"</span>\n",
       "</pre>\n"
      ],
      "text/plain": [
       "\u001b[1mModel: \"sequential_2\"\u001b[0m\n"
      ]
     },
     "metadata": {},
     "output_type": "display_data"
    },
    {
     "data": {
      "text/html": [
       "<pre style=\"white-space:pre;overflow-x:auto;line-height:normal;font-family:Menlo,'DejaVu Sans Mono',consolas,'Courier New',monospace\">┏━━━━━━━━━━━━━━━━━━━━━━━━━━━━━━━━━━━━━━┳━━━━━━━━━━━━━━━━━━━━━━━━━━━━━┳━━━━━━━━━━━━━━━━━┓\n",
       "┃<span style=\"font-weight: bold\"> Layer (type)                         </span>┃<span style=\"font-weight: bold\"> Output Shape                </span>┃<span style=\"font-weight: bold\">         Param # </span>┃\n",
       "┡━━━━━━━━━━━━━━━━━━━━━━━━━━━━━━━━━━━━━━╇━━━━━━━━━━━━━━━━━━━━━━━━━━━━━╇━━━━━━━━━━━━━━━━━┩\n",
       "│ flatten_1 (<span style=\"color: #0087ff; text-decoration-color: #0087ff\">Flatten</span>)                  │ (<span style=\"color: #00af00; text-decoration-color: #00af00\">32</span>, <span style=\"color: #00af00; text-decoration-color: #00af00\">784</span>)                   │               <span style=\"color: #00af00; text-decoration-color: #00af00\">0</span> │\n",
       "├──────────────────────────────────────┼─────────────────────────────┼─────────────────┤\n",
       "│ dense_2 (<span style=\"color: #0087ff; text-decoration-color: #0087ff\">Dense</span>)                      │ (<span style=\"color: #00af00; text-decoration-color: #00af00\">32</span>, <span style=\"color: #00af00; text-decoration-color: #00af00\">10</span>)                    │           <span style=\"color: #00af00; text-decoration-color: #00af00\">7,850</span> │\n",
       "└──────────────────────────────────────┴─────────────────────────────┴─────────────────┘\n",
       "</pre>\n"
      ],
      "text/plain": [
       "┏━━━━━━━━━━━━━━━━━━━━━━━━━━━━━━━━━━━━━━┳━━━━━━━━━━━━━━━━━━━━━━━━━━━━━┳━━━━━━━━━━━━━━━━━┓\n",
       "┃\u001b[1m \u001b[0m\u001b[1mLayer (type)                        \u001b[0m\u001b[1m \u001b[0m┃\u001b[1m \u001b[0m\u001b[1mOutput Shape               \u001b[0m\u001b[1m \u001b[0m┃\u001b[1m \u001b[0m\u001b[1m        Param #\u001b[0m\u001b[1m \u001b[0m┃\n",
       "┡━━━━━━━━━━━━━━━━━━━━━━━━━━━━━━━━━━━━━━╇━━━━━━━━━━━━━━━━━━━━━━━━━━━━━╇━━━━━━━━━━━━━━━━━┩\n",
       "│ flatten_1 (\u001b[38;5;33mFlatten\u001b[0m)                  │ (\u001b[38;5;34m32\u001b[0m, \u001b[38;5;34m784\u001b[0m)                   │               \u001b[38;5;34m0\u001b[0m │\n",
       "├──────────────────────────────────────┼─────────────────────────────┼─────────────────┤\n",
       "│ dense_2 (\u001b[38;5;33mDense\u001b[0m)                      │ (\u001b[38;5;34m32\u001b[0m, \u001b[38;5;34m10\u001b[0m)                    │           \u001b[38;5;34m7,850\u001b[0m │\n",
       "└──────────────────────────────────────┴─────────────────────────────┴─────────────────┘\n"
      ]
     },
     "metadata": {},
     "output_type": "display_data"
    },
    {
     "data": {
      "text/html": [
       "<pre style=\"white-space:pre;overflow-x:auto;line-height:normal;font-family:Menlo,'DejaVu Sans Mono',consolas,'Courier New',monospace\"><span style=\"font-weight: bold\"> Total params: </span><span style=\"color: #00af00; text-decoration-color: #00af00\">23,552</span> (92.00 KB)\n",
       "</pre>\n"
      ],
      "text/plain": [
       "\u001b[1m Total params: \u001b[0m\u001b[38;5;34m23,552\u001b[0m (92.00 KB)\n"
      ]
     },
     "metadata": {},
     "output_type": "display_data"
    },
    {
     "data": {
      "text/html": [
       "<pre style=\"white-space:pre;overflow-x:auto;line-height:normal;font-family:Menlo,'DejaVu Sans Mono',consolas,'Courier New',monospace\"><span style=\"font-weight: bold\"> Trainable params: </span><span style=\"color: #00af00; text-decoration-color: #00af00\">7,850</span> (30.66 KB)\n",
       "</pre>\n"
      ],
      "text/plain": [
       "\u001b[1m Trainable params: \u001b[0m\u001b[38;5;34m7,850\u001b[0m (30.66 KB)\n"
      ]
     },
     "metadata": {},
     "output_type": "display_data"
    },
    {
     "data": {
      "text/html": [
       "<pre style=\"white-space:pre;overflow-x:auto;line-height:normal;font-family:Menlo,'DejaVu Sans Mono',consolas,'Courier New',monospace\"><span style=\"font-weight: bold\"> Non-trainable params: </span><span style=\"color: #00af00; text-decoration-color: #00af00\">0</span> (0.00 B)\n",
       "</pre>\n"
      ],
      "text/plain": [
       "\u001b[1m Non-trainable params: \u001b[0m\u001b[38;5;34m0\u001b[0m (0.00 B)\n"
      ]
     },
     "metadata": {},
     "output_type": "display_data"
    },
    {
     "data": {
      "text/html": [
       "<pre style=\"white-space:pre;overflow-x:auto;line-height:normal;font-family:Menlo,'DejaVu Sans Mono',consolas,'Courier New',monospace\"><span style=\"font-weight: bold\"> Optimizer params: </span><span style=\"color: #00af00; text-decoration-color: #00af00\">15,702</span> (61.34 KB)\n",
       "</pre>\n"
      ],
      "text/plain": [
       "\u001b[1m Optimizer params: \u001b[0m\u001b[38;5;34m15,702\u001b[0m (61.34 KB)\n"
      ]
     },
     "metadata": {},
     "output_type": "display_data"
    }
   ],
   "source": [
    "model.summary()"
   ]
  },
  {
   "cell_type": "markdown",
   "metadata": {
    "jp-MarkdownHeadingCollapsed": true
   },
   "source": [
    "### ลองดู summary ของโมเดลกันก่อน\n",
    "จะสังเกตุได้ว่าหลังจาก train model ของเราแล้ว settings ต่างๆของพารามิเตอร์นั้นเปลี่ยนไป\n"
   ]
  },
  {
   "cell_type": "markdown",
   "metadata": {
    "jp-MarkdownHeadingCollapsed": true
   },
   "source": [
    "## ตรวจสอบความสามารถเครื่องกับชุดข้อมูลที่เครื่องไม่เคยใช้ในการฝึก\n",
    "\n",
    "ลองฝึกไปแล้วพบว่าเครื่องมันทายแม่นใช้ได้ คือทายถูกประมาณ 85% ของชุดข้อมูลฝึก แต่เป้าหมายของการฝึกของเราคือเอาตัวแบบที่ฝึกแล้วไปใช้กับข้อมูลที่มันไม่เคยเห็น\n",
    "ดังนั้นเราต้องตรวจสอบว่าที่เครื่องมันดูเก่งขึ้นจากการฝึก มันเก่งแบบจำคำตอบของข้อมูลฝึก หรือว่ามันเข้าใจภาพและทายประเภทเสื้อผ้าได้ดีขึ้นจริง ๆ\n",
    "\n",
    "เพื่อดำเนินการตรวจสอบ เราจะลองให้เครื่อง predict ชุดข้อมูลทดสอบ แล้วเอาผลที่มันทายไปตรวจดูกับเฉลยว่ามันทายถูกกี่ครั้ง"
   ]
  },
  {
   "cell_type": "code",
   "execution_count": 15,
   "metadata": {},
   "outputs": [
    {
     "name": "stdout",
     "output_type": "stream",
     "text": [
      "\u001b[1m313/313\u001b[0m \u001b[32m━━━━━━━━━━━━━━━━━━━━\u001b[0m\u001b[37m\u001b[0m \u001b[1m0s\u001b[0m 972us/step\n"
     ]
    }
   ],
   "source": [
    "predictions = model.predict(test_images)"
   ]
  },
  {
   "cell_type": "markdown",
   "metadata": {},
   "source": [
    "**ตรวจดูก่อนว่ามันทายมาตามจำนวนตัวอย่างทดสอบจริง**"
   ]
  },
  {
   "cell_type": "code",
   "execution_count": 16,
   "metadata": {},
   "outputs": [
    {
     "data": {
      "text/plain": [
       "10000"
      ]
     },
     "execution_count": 16,
     "metadata": {},
     "output_type": "execute_result"
    }
   ],
   "source": [
    "len(predictions)"
   ]
  },
  {
   "cell_type": "code",
   "execution_count": 17,
   "metadata": {},
   "outputs": [
    {
     "data": {
      "text/plain": [
       "10000"
      ]
     },
     "execution_count": 17,
     "metadata": {},
     "output_type": "execute_result"
    }
   ],
   "source": [
    "len(test_images)"
   ]
  },
  {
   "cell_type": "markdown",
   "metadata": {},
   "source": [
    "ถ้าตัวเลขข้างบนเป็น 10,000 ด้วยกันทั้งคู่ แสดงว่าไม่มีปัญหา อันดับต่อไปเราจะมาลองศึกษาดูว่าในตัวอย่างแรกที่มันทายมา มันทายว่าอะไร"
   ]
  },
  {
   "cell_type": "code",
   "execution_count": 18,
   "metadata": {},
   "outputs": [
    {
     "data": {
      "text/plain": [
       "array([0., 0., 0., 0., 0., 0., 0., 0., 0., 1.], dtype=float32)"
      ]
     },
     "execution_count": 18,
     "metadata": {},
     "output_type": "execute_result"
    }
   ],
   "source": [
    "predictions[0]"
   ]
  },
  {
   "cell_type": "markdown",
   "metadata": {},
   "source": [
    "โอ๊ะ เวลามันทายตัวอย่างแรก ที่จริงมันพ่นตัวเลขออกมา 10 ค่าต่างหาก ดูเหมือนมันจะไม่ได้บอกมาว่ามันทายว่าเป็นประเภทอะไร แต่มันทายออกมาเป็นความน่าจะเป็นตามที่เราเรียนมาก่อนหน้า ซึ่งถ้าเป็นเช่นนั้นจริง ผลรวมของค่าในอาเรย์นี้ควรจะเป็น 1"
   ]
  },
  {
   "cell_type": "code",
   "execution_count": 19,
   "metadata": {},
   "outputs": [
    {
     "data": {
      "text/plain": [
       "1.0"
      ]
     },
     "execution_count": 19,
     "metadata": {},
     "output_type": "execute_result"
    }
   ],
   "source": [
    "sum(predictions[0])"
   ]
  },
  {
   "cell_type": "markdown",
   "metadata": {},
   "source": [
    "โอเค ถึงจะไม่ใช่ 1 สนิทแต่มันแม่นยำถึง 8 ตำแหน่ง (รวมเลข 1 ข้างหน้าด้วย) ซึ่งที่มันเป็นแบบนี้เพราะเราใช้ float32 ไม่ใช่ float64 ซึ่งความเที่ยงระดับนี้ ถือว่าเพียงพอกับงาน Deep Learning แล้ว (ในงานจำนวนมากและ GPU ที่ใหม่มาก ๆ มันจะมีโหมด float16 ด้วย)\n",
    "\n",
    "**คราวนี้เราอยากรู้ว่ามันทายว่าเป็นคลาสหมายเลขอะไรจากคลาส 0 ถึง 9** <br/>\n",
    "วิธีเขียนโค้ดนั้นง่ายมาก คือเราใช้คำสั่ง np.argmax(predictions[0]) ซึ่งมันจะคืนอินเด็กซ์ที่มีค่าสูงสุดใน predictions[0] ออกมา จุดนี้ตรงตามแนวคิดเกี่ยวกับการเลือกคลาสคำตอบของเราพอดี เพราะเราต้องการเลือกคลาสที่มีความน่าจะเป็นสูงสุดมาเป็นคำตอบ"
   ]
  },
  {
   "cell_type": "code",
   "execution_count": 20,
   "metadata": {},
   "outputs": [
    {
     "data": {
      "text/plain": [
       "9"
      ]
     },
     "execution_count": 20,
     "metadata": {},
     "output_type": "execute_result"
    }
   ],
   "source": [
    "np.argmax(predictions[0])"
   ]
  },
  {
   "cell_type": "markdown",
   "metadata": {},
   "source": [
    "ลองรันดูแล้วมันบอกว่า 9 ถ้าเราจะให้คอมพิวเตอร์ตรวจว่าถูกหรือเปล่าเราก็ไปเทียบกับ test_labels[0] ได้"
   ]
  },
  {
   "cell_type": "code",
   "execution_count": 21,
   "metadata": {},
   "outputs": [
    {
     "data": {
      "text/plain": [
       "9"
      ]
     },
     "execution_count": 21,
     "metadata": {},
     "output_type": "execute_result"
    }
   ],
   "source": [
    "test_labels[0]"
   ]
  },
  {
   "cell_type": "markdown",
   "metadata": {},
   "source": [
    "Oh Yeah. ได้ 9 มาทั้งสองจุด แบบนี้แสดงว่าเครื่องทายถูก แม้ว่าจะไม่เคยเห็นภาพนี้มาก่อน แต่ถ้าเราอยากแสดงภาพประกอบออกมาด้วยเพื่อให้เราซึ่งเป็นมนุษย์ตรวจสอบร่วมด้วยได้โดยง่ายเรื่องมันจะยาวมาก แต่เราก็ควรทำมากกว่าที่จะรันไปเรื่อย ๆ โดยไม่เคยมีจินตการเกี่ยวกับสภาพปัญหาประกบคู่ไปด้วย\n",
    "\n",
    "อันดับแรก เราจะโยงตัวเลขไปกับชื่อ ซึ่งทำได้โดยวิธีที่เราใช้ตอนสำรวจข้อมูลนั่นแหละ"
   ]
  },
  {
   "cell_type": "code",
   "execution_count": 22,
   "metadata": {},
   "outputs": [],
   "source": [
    "class_names = [\n",
    "    \"T-shirt/top\",\n",
    "    \"Trouser\",\n",
    "    \"Pullover\",\n",
    "    \"Dress\",\n",
    "    \"Coat\",\n",
    "    \"Sandal\",\n",
    "    \"Shirt\",\n",
    "    \"Sneaker\",\n",
    "    \"Bag\",\n",
    "    \"Ankle boot\",\n",
    "]"
   ]
  },
  {
   "cell_type": "code",
   "execution_count": 23,
   "metadata": {},
   "outputs": [
    {
     "data": {
      "text/plain": [
       "'Ankle boot'"
      ]
     },
     "execution_count": 23,
     "metadata": {},
     "output_type": "execute_result"
    }
   ],
   "source": [
    "predicted_class = np.argmax(predictions[0])\n",
    "class_names[predicted_class]"
   ]
  },
  {
   "cell_type": "markdown",
   "metadata": {
    "jp-MarkdownHeadingCollapsed": true
   },
   "source": [
    "## การแปลงผลการทายให้เป็นค่าความแม่นยำ\n",
    "ที่ผ่านมา เราสามารถตรวจสอบความถูกต้องของการทายตัวอย่างที่เราสนใจได้แล้ว อย่างไรก็ตาม โดยมากเราต้องการผลสรุปออกมาเป็นร้อยละของความแม่นยำ อันที่จริงเราจะวนลูปเทียบผลการทายทีละตัวระหว่างกับ test_labels แล้วนับจำนวนครั้งที่ทายถูกก็ได้\n",
    "\n",
    "แต่การวนลูปพวกนี้มักจะไม่จำเป็น และทำให้การคำนวณช้าด้วย ในตอนนี้เรามีตัวอย่างแค่ระดับหมื่นตัวเราอาจจะยังไม่รู้สึกว่ามันช้า แต่โอกาศที่เราจะพบข้อมูลระดับแสนตัวก็นับว่ามีไม่น้อย ดังนั้นเราจะใช้วิธีอื่น ทำแบบ pythonic style"
   ]
  },
  {
   "cell_type": "markdown",
   "metadata": {
    "jp-MarkdownHeadingCollapsed": true
   },
   "source": [
    "### ลูกเล่นของ np.argmax\n",
    "เราอยากได้ลาเบลของคลาสที่เครื่องทายมาของแต่ละภาพ ซึ่งก็คืออินเด็กซ์ของคลาสที่มีความน่าจะเป็นสูงสุด หากเรารัน predictions.shape เราจะพบว่ามันมีขนาดเป็น (10000, 10) ซึ่งก็คือมีหนึ่งหมื่นตัวอย่าง แต่ละตัวอย่างมีผลการทาย 10 คลาส \n",
    "\n",
    "หากเรารัน np.argmax(predictions) มันจะวิ่งไปในอาเรย์ทั้งก้อนราวกับว่าอาเรย์ยาวต่อเนื่องเป็นแถวเดียว ไม่ได้เป็นอาเรย์สองมิติอย่างที่ควรเป็น และมันจะคืนค่าอินเด็กซ์ที่มีค่า max มาให้ค่าเดียว แทนที่จะคืนมาให้หมื่นค่าตามจำนวนตัวอย่าง\n",
    "\n",
    "แต่ np.argmax อนุญาตให้เราระบุแกนมิติในอาเรย์ที่เราจะยึดถือเป็นแกนอ้างอิง เช่นถ้าเราบอกว่า np.argmax(predictions, axis=0) ทางนัมไพจะเอาแกนแรกซึ่งก็คือแถวมาเป็นแกนอ้างอิง นั่นคือในแถวมี 10 คอลัมน์ มันก็จะหาค่า max ในแต่ละคอลัมน์มาให้เป็นคำตอบ\n",
    "\n",
    "ทว่าสิ่งที่เราต้องการคืออินเด็กซ์ค่า max ในแต่ละแถว ดังนั้นเราต้องสั่งให้ยึดคอลัมน์เป็นแกนอ้างอิง เพื่อที่มันจะได้หาว่าจากแนวตั้งซึ่งมี 10,000 แถว ในแต่ละแถวมีค่า max อยู่ที่อินเด็กซ์ใดบ้าง และนำไปสู่โค้ดที่เรียบง่ายว่า np.argmax(predictions, axis=1)"
   ]
  },
  {
   "cell_type": "code",
   "execution_count": 24,
   "metadata": {},
   "outputs": [
    {
     "data": {
      "text/plain": [
       "(10000, 10)"
      ]
     },
     "execution_count": 24,
     "metadata": {},
     "output_type": "execute_result"
    }
   ],
   "source": [
    "predictions.shape"
   ]
  },
  {
   "cell_type": "code",
   "execution_count": 25,
   "metadata": {},
   "outputs": [],
   "source": [
    "predicted_classes = np.argmax(predictions, axis=1)"
   ]
  },
  {
   "cell_type": "code",
   "execution_count": 26,
   "metadata": {},
   "outputs": [
    {
     "data": {
      "text/plain": [
       "array([9, 2, 1, 1, 6, 1, 4, 6, 7, 7], dtype=int64)"
      ]
     },
     "execution_count": 26,
     "metadata": {},
     "output_type": "execute_result"
    }
   ],
   "source": [
    "predicted_classes[0:10]"
   ]
  },
  {
   "cell_type": "markdown",
   "metadata": {},
   "source": [
    "**อย่าวนลูปเปรียบเทียบค่าระหว่าง NumPy array สองตัว แต่ให้ใช้ฟังก์ชัน np.equal แทน**\n",
    "ในโค้ดตัวอย่างข้างล่างนี้ เราใช้ฟังก์ชันของนัมไพเปรียบเทียบค่าระหว่างอาเรย์สองตัว ซึ่งมันจะคืนผลลัพธ์มาเป็นอาเรย์อีกอันที่บันทึกว่าคู่ใดมีค่าเท่ากันคู่ใดมีค่าต่างกัน \n",
    "\n",
    "ในตัวอย่างนี้ เราเทียบค่าระหว่างอาเรย์ predictted_class และ test_labels และเก็บผลการเทียบไว้ในตัวแปรชื่อ correct ซึ่งหากช่องอาเรย์คู่ใดที่ค่าเท่ากัน ผลลัพธ์ที่อยู่ใน correct จะเป็น True แต่ช่องไหนที่ไม่เท่ากัน ผลลัพธ์ในอาเรย์ correct จะเป็น False"
   ]
  },
  {
   "cell_type": "code",
   "execution_count": 27,
   "metadata": {},
   "outputs": [],
   "source": [
    "correct = np.equal(predicted_classes, test_labels)"
   ]
  },
  {
   "cell_type": "markdown",
   "metadata": {},
   "source": [
    "**ลองพิมพ์ค่าใน correct ออกมาดู** สังเกตด้วยว่าอาเรย์ในนัมไพก็เก็บค่าบูลีนได้ ไม่จำเป็นต้องเป็นตัวเลขแต่เพียงอย่างเดียว"
   ]
  },
  {
   "cell_type": "code",
   "execution_count": 28,
   "metadata": {},
   "outputs": [
    {
     "data": {
      "text/plain": [
       "array([ True,  True,  True, ...,  True,  True,  True])"
      ]
     },
     "execution_count": 28,
     "metadata": {},
     "output_type": "execute_result"
    }
   ],
   "source": [
    "correct"
   ]
  },
  {
   "cell_type": "code",
   "execution_count": 29,
   "metadata": {},
   "outputs": [
    {
     "data": {
      "text/plain": [
       "array([ True,  True,  True, ...,  True,  True,  True])"
      ]
     },
     "execution_count": 29,
     "metadata": {},
     "output_type": "execute_result"
    }
   ],
   "source": [
    "correct == True"
   ]
  },
  {
   "cell_type": "markdown",
   "metadata": {},
   "source": [
    "### วิธีนับค่า True ในอาเรย์บูลีนตามวิถึ pythonic ไม่ควรอาศัยลูป\n",
    "เวลาจะนับว่าข้างในอาเรย์มี True เราไม่ควรวนลูปแล้วเทียบทีละค่า แต่ให้ใช้ฟังก์ชัน sum ได้เลย ซึ่งไพธอนจะถือว่า True ในกระบวนการบวกมีค่าเป็น 1 และ False มีค่าเป็น 0\n",
    "\n",
    "ดังนั้นหากเราจะคำนวณร้อยละความถูกต้อง เราสามารถนำจำนวน True ในอาเรย์ correct มาหารด้วยจำนวนตัวอย่างทดสอบทั้งหมด"
   ]
  },
  {
   "cell_type": "code",
   "execution_count": 30,
   "metadata": {},
   "outputs": [
    {
     "data": {
      "text/plain": [
       "0.8111"
      ]
     },
     "execution_count": 30,
     "metadata": {},
     "output_type": "execute_result"
    }
   ],
   "source": [
    "sum(correct == True) / len(correct)"
   ]
  },
  {
   "cell_type": "markdown",
   "metadata": {},
   "source": [
    "ผลลัพธ์จากตัวอย่างข้างบนแสดงว่าความแม่นยำในชุดข้อมูลทดสอบคือ 84.53%"
   ]
  },
  {
   "cell_type": "markdown",
   "metadata": {},
   "source": [
    "### ค่าบูลีนในไพธอนรองรับการบวกลบ\n",
    "ในการบวกลบ ไพธอนถือว่า True มีค่าเป็น 1 และ False มีค่าเป็น 0  ทดสอบดูกับเซลล์ข้างล่างนี้ได้เลย"
   ]
  },
  {
   "cell_type": "code",
   "execution_count": 31,
   "metadata": {},
   "outputs": [
    {
     "data": {
      "text/plain": [
       "3"
      ]
     },
     "execution_count": 31,
     "metadata": {},
     "output_type": "execute_result"
    }
   ],
   "source": [
    "True + False + True + True + False"
   ]
  },
  {
   "cell_type": "code",
   "execution_count": 32,
   "metadata": {},
   "outputs": [
    {
     "data": {
      "text/plain": [
       "1"
      ]
     },
     "execution_count": 32,
     "metadata": {},
     "output_type": "execute_result"
    }
   ],
   "source": [
    "True - False - True + True - False"
   ]
  },
  {
   "cell_type": "markdown",
   "metadata": {
    "jp-MarkdownHeadingCollapsed": true
   },
   "source": [
    "## มิติใหม่แห่งการแสดงผลการทำนายคลาส แสดงระดับความน่าจะเป็นของแต่ละคลาสมาด้วย\n",
    "สำหรับมือใหม่ แนวคิดนี้จะดูเหมือนอยู่เหนือจินตนาการมาก คือเราจะแสดงบาร์กราฟว่าแต่ละคลาสมีความน่าจะเป็นเท่าใด และเครื่องทายถูกหรือผิดด้วย โดยถ้าทายถูกจะเป็นสีน้ำเงิน ทายผิดจะเป็นสีแดง วิธีการนี้นอกจากจะช่วยให้เราเข้าใจผลลัพธ์ได้เร็ว มันยังช่วยให้เราเขียนรายงานหรือตีพิมพ์ผลงานวิจัยง่ายด้วย เพราะมันเป็นวิธีที่ทรงพลังในการสื่อสารกับผู้คนมาก\n",
    "\n",
    "อันดับแรก เราจะเริ่มจากการวาดรูปพร้อมกับลาเบลสีที่แสดงว่ามันทายถูกหรือผิดและทายคลาสที่มันตอบมาด้วยความน่าจะเป็นเท่าใด"
   ]
  },
  {
   "cell_type": "code",
   "execution_count": 33,
   "metadata": {},
   "outputs": [],
   "source": [
    "def plot_image(i, predictions_array, true_label, img):\n",
    "    predictions_array, true_label, img = predictions_array[i], true_label[i], img[i]\n",
    "    plt.grid(False)\n",
    "    plt.xticks([])\n",
    "    plt.yticks([])\n",
    "\n",
    "    plt.imshow(img, cmap=plt.cm.binary)\n",
    "\n",
    "    predicted_label = np.argmax(predictions_array)\n",
    "    if predicted_label == true_label:\n",
    "        color = \"blue\"\n",
    "    else:\n",
    "        color = \"red\"\n",
    "\n",
    "    plt.xlabel(\n",
    "        \"{} {:2.0f}% ({})\".format(\n",
    "            class_names[predicted_label],\n",
    "            100 * np.max(predictions_array),\n",
    "            class_names[true_label],\n",
    "        ),\n",
    "        color=color,\n",
    "    )"
   ]
  },
  {
   "cell_type": "markdown",
   "metadata": {},
   "source": [
    "เอาล่ะ คราวนี้มาดูฟังก์ชันสำหรับพล็อตบาร์กราฟกัน"
   ]
  },
  {
   "cell_type": "code",
   "execution_count": 34,
   "metadata": {},
   "outputs": [],
   "source": [
    "def plot_value_array(i, predictions_array, true_label):\n",
    "    predictions_array, true_label = predictions_array[i], true_label[i]\n",
    "    plt.grid(False)\n",
    "    plt.xticks([])\n",
    "    plt.yticks([])\n",
    "    thisplot = plt.bar(range(10), predictions_array, color=\"#777777\")\n",
    "    plt.ylim([0, 1])\n",
    "    predicted_label = np.argmax(predictions_array)\n",
    "\n",
    "    thisplot[predicted_label].set_color(\"red\")\n",
    "    thisplot[true_label].set_color(\"blue\")"
   ]
  },
  {
   "cell_type": "markdown",
   "metadata": {},
   "source": [
    "เราจะเรียกใช้ฟังก์ชันพล็อตทั้งสองนี้คู่กัน แน่นอนว่าด้วยคำสั่ง subplot ที่เราเรียนมาแล้วนั่นเอง และในที่นี้เราจะลองพล็อตตัวอย่างแรกออกมาดู"
   ]
  },
  {
   "cell_type": "code",
   "execution_count": 35,
   "metadata": {},
   "outputs": [
    {
     "data": {
      "image/png": "[encoded data removed]",
      "text/plain": [
       "<Figure size 600x300 with 2 Axes>"
      ]
     },
     "metadata": {},
     "output_type": "display_data"
    }
   ],
   "source": [
    "i = 0\n",
    "plt.figure(figsize=(6, 3))\n",
    "plt.subplot(1, 2, 1)\n",
    "plot_image(i, predictions, test_labels, test_images)\n",
    "plt.subplot(1, 2, 2)\n",
    "plot_value_array(i, predictions, test_labels)"
   ]
  },
  {
   "cell_type": "markdown",
   "metadata": {},
   "source": [
    "ข้างบนเป็นตัวอย่างที่ทายถูก ซึ่งความน่าจะเป็นไม่ถือว่าสูงเท่าใดนัก เพราะเครื่องยังคิดว่ามีโอกาสเป็นเสื้อทีเชิร์ตและรองเท้าหุ้มส้นอยู่บ้าง อันดับต่อไป เราจะลองมาดูตัวอย่างที่เครื่องทายผิด"
   ]
  },
  {
   "cell_type": "code",
   "execution_count": 36,
   "metadata": {},
   "outputs": [
    {
     "data": {
      "image/png": "[encoded data removed]",
      "text/plain": [
       "<Figure size 600x300 with 2 Axes>"
      ]
     },
     "metadata": {},
     "output_type": "display_data"
    }
   ],
   "source": [
    "i = 12\n",
    "plt.figure(figsize=(6, 3))\n",
    "plt.subplot(1, 2, 1)\n",
    "plot_image(i, predictions, test_labels, test_images)\n",
    "plt.subplot(1, 2, 2)\n",
    "plot_value_array(i, predictions, test_labels)"
   ]
  },
  {
   "cell_type": "markdown",
   "metadata": {},
   "source": [
    "คราวนี้เครื่องทายว่าเป็นรองเท้าแตะแบบเหมือนเดามา คือคิดว่าโอกาสเป็นรองเท้าแตะอยู่ที่ 57% ในขณะที่เฉลยคือรองเท้าหุ้มส้น ซึ่งมีความน่าจะเป็นเพียงประมาณครึ่งหนึ่งของรองเท้าแตะ (แท่งสีน้ำเงิน)"
   ]
  },
  {
   "cell_type": "markdown",
   "metadata": {
    "jp-MarkdownHeadingCollapsed": true
   },
   "source": [
    "## กระหน่ำพล็อตเป็นชุด\n",
    "ดูทีละภาพมันก็ช้าไป ถ้าอยากได้แบบเป็นชุด ก็ต้องจัดพื้นที่แสดงผลใหม่และวนลูปพล็อตลงในพื้นที่ที่เตรียมไว้ ในตัวอย่างนี้ เราระบุได้เลยว่าอยากให้มันแสดงภาพออกมากี่แถวและกี่คอลัมน์ (กำหนดผ่านตัวแรป num_rows และ num_columns) ซึ่งการจัดพื้นที่ก็จะปรับขอบเขตตามนั้นด้วย (สังเกตด้วยว่าจำนวนคอลัมน์จะถูกคูณสอง เพราะเวลาที่เราพล็อต 1 ภาพ จริง ๆ แล้วเราพล็อตทั้งภาพและบาร์กราฟ)"
   ]
  },
  {
   "cell_type": "code",
   "execution_count": 37,
   "metadata": {},
   "outputs": [
    {
     "data": {
      "image/png": "[encoded data removed]",
      "text/plain": [
       "<Figure size 1200x1000 with 30 Axes>"
      ]
     },
     "metadata": {},
     "output_type": "display_data"
    }
   ],
   "source": [
    "num_rows = 5\n",
    "num_cols = 3\n",
    "num_images = num_rows * num_cols\n",
    "plt.figure(figsize=(2 * 2 * num_cols, 2 * num_rows))\n",
    "for i in range(num_images):\n",
    "    plt.subplot(num_rows, 2 * num_cols, 2 * i + 1)\n",
    "    plot_image(i, predictions, test_labels, test_images)\n",
    "    plt.subplot(num_rows, 2 * num_cols, 2 * i + 2)\n",
    "    plot_value_array(i, predictions, test_labels)"
   ]
  },
  {
   "cell_type": "markdown",
   "metadata": {},
   "source": [
    "**ส่งท้าย ใส่ชื่อคลาสลงไปในบาร์กราฟใต้แกน x**\n",
    "ก่อนหน้านี้ เราอยากประหยัดพื้นที่แสดงผล เราจึงไม่แสดงชื่อคลาสไว้ด้วย ทำให้เราต้องคอยเทียบดูว่าตำแหน่งที่กราฟอยู่นั้นตรงกับคลาสใด แต่หากเราไม่ติดขัดเรื่องพื้นที่แสดงผล และอยากสื่อสารให้ชัดเจนขึ้น เราควรใส่ชื่อคลาสกำกับลงไปด้วย\n",
    "\n",
    "ซึ่ง matplotlib ทำหน้าที่ตรงนี้ได้อย่างสวยงาม คือเราสามารถบอกได้ด้วยว่าจะให้ตัวอักษรชื่อคลาสที่อยู่ด้านใต้แกน x นี้เอียงกี่องศา"
   ]
  },
  {
   "cell_type": "code",
   "execution_count": 38,
   "metadata": {},
   "outputs": [
    {
     "data": {
      "image/png": "[encoded data removed]",
      "text/plain": [
       "<Figure size 640x480 with 1 Axes>"
      ]
     },
     "metadata": {},
     "output_type": "display_data"
    }
   ],
   "source": [
    "plot_value_array(12, predictions, test_labels)\n",
    "_ = plt.xticks(range(10), class_names, rotation=45)"
   ]
  },
  {
   "cell_type": "markdown",
   "metadata": {},
   "source": [
    "-จบตอน"
   ]
  }
 ],
 "metadata": {
  "kernelspec": {
   "display_name": "Python 3 (ipykernel)",
   "language": "python",
   "name": "python3"
  },
  "language_info": {
   "codemirror_mode": {
    "name": "ipython",
    "version": 3
   },
   "file_extension": ".py",
   "mimetype": "text/x-python",
   "name": "python",
   "nbconvert_exporter": "python",
   "pygments_lexer": "ipython3",
   "version": "3.10.4"
  }
 },
 "nbformat": 4,
 "nbformat_minor": 4
}
